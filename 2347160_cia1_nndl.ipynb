{
  "nbformat": 4,
  "nbformat_minor": 0,
  "metadata": {
    "colab": {
      "provenance": [],
      "gpuType": "V28"
    },
    "kernelspec": {
      "name": "python3",
      "display_name": "Python 3"
    },
    "language_info": {
      "name": "python"
    },
    "accelerator": "TPU"
  },
  "cells": [
    {
      "cell_type": "markdown",
      "source": [
        "**Implement a Single Layer Perceptron**\n"
      ],
      "metadata": {
        "id": "RPOtsSMhFP4b"
      }
    },
    {
      "cell_type": "code",
      "source": [
        "import numpy as np\n",
        "\n",
        "# Define the XOR gate inputs and outputs\n",
        "X = np.array([[0, 0], [0, 1], [1, 0], [1, 1]])\n",
        "y = np.array([0, 1, 1, 0])\n",
        "\n",
        "# Initialize weights and bias\n",
        "# Change the weights to have a float data type\n",
        "weights = np.array([1.0, 1.0])  # Use floats to avoid type mismatch during updates\n",
        "bias = 0\n",
        "\n",
        "# Define the step activation function\n",
        "def step_function(x):\n",
        "  return 1 if x >= 0 else 0\n",
        "\n",
        "# Training loop\n",
        "learning_rate = 0.1\n",
        "epochs = 100\n",
        "\n",
        "for epoch in range(epochs):\n",
        "  for i in range(len(X)):\n",
        "    # Calculate the weighted sum\n",
        "    weighted_sum = np.dot(X[i], weights) + bias\n",
        "\n",
        "    # Apply the step function to get the predicted output\n",
        "    predicted_output = step_function(weighted_sum)\n",
        "\n",
        "    # Calculate the error\n",
        "    error = y[i] - predicted_output\n",
        "\n",
        "    # Update the weights and bias\n",
        "    weights += learning_rate * error * X[i]\n",
        "    bias += learning_rate * error\n",
        "\n",
        "# Test the network\n",
        "for i in range(len(X)):\n",
        "  weighted_sum = np.dot(X[i], weights) + bias\n",
        "  predicted_output = step_function(weighted_sum)\n",
        "  print(f\"Input: {X[i]}, Predicted Output: {predicted_output}, Actual Output: {y[i]}\")"
      ],
      "metadata": {
        "colab": {
          "base_uri": "https://localhost:8080/"
        },
        "id": "pjQlE3d-AtlZ",
        "outputId": "83ad5fe4-2685-4fe2-9dbb-36e22c3d5104"
      },
      "execution_count": 4,
      "outputs": [
        {
          "output_type": "stream",
          "name": "stdout",
          "text": [
            "Input: [0 0], Predicted Output: 1, Actual Output: 0\n",
            "Input: [0 1], Predicted Output: 1, Actual Output: 1\n",
            "Input: [1 0], Predicted Output: 0, Actual Output: 1\n",
            "Input: [1 1], Predicted Output: 0, Actual Output: 0\n"
          ]
        }
      ]
    },
    {
      "cell_type": "markdown",
      "source": [
        " **Implement the perceptron model and train it using the XOR dataset using MCP (McCulloch\n",
        "Pitts) Neuron**"
      ],
      "metadata": {
        "id": "feJRgFFUGfSM"
      }
    },
    {
      "cell_type": "code",
      "source": [
        "X = np.array([[0, 0], [0, 1], [1, 0], [1, 1]])\n",
        "y = np.array([0, 1, 1, 0])\n",
        "\n",
        "# Initialize weights and bias\n",
        "w1 = 1\n",
        "w2 = 1\n",
        "theta = 0  # Threshold\n",
        "\n",
        "# Define MCP neuron activation function\n",
        "def mcp_neuron(x1, x2):\n",
        "  summation = w1*x1 + w2*x2\n",
        "  if summation >= theta:\n",
        "    return 1\n",
        "  else:\n",
        "    return 0\n",
        "\n",
        "# Training the MCP neuron (this is a symbolic training, as MCP neurons don't learn weights)\n",
        "# For XOR, there's no weight combination that solves the problem with a single MCP neuron\n",
        "\n",
        "# Test the MCP neuron on XOR data\n",
        "print(\"Testing MCP Neuron on XOR Gate:\")\n",
        "for i in range(len(X)):\n",
        "  x1, x2 = X[i]\n",
        "  prediction = mcp_neuron(x1, x2)\n",
        "  print(f\"Input: {X[i]}, Output: {prediction}, Expected: {y[i]}\")\n",
        "\n",
        "# We observe that the MCP neuron cannot correctly classify the XOR gate"
      ],
      "metadata": {
        "colab": {
          "base_uri": "https://localhost:8080/"
        },
        "id": "gIf5D35oCdZ1",
        "outputId": "43b02b1b-b384-461e-a4ba-432b7b038e23"
      },
      "execution_count": 5,
      "outputs": [
        {
          "output_type": "stream",
          "name": "stdout",
          "text": [
            "Testing MCP Neuron on XOR Gate:\n",
            "Input: [0 0], Output: 1, Expected: 0\n",
            "Input: [0 1], Output: 1, Expected: 1\n",
            "Input: [1 0], Output: 1, Expected: 1\n",
            "Input: [1 1], Output: 1, Expected: 0\n"
          ]
        }
      ]
    },
    {
      "cell_type": "markdown",
      "source": [
        "**Implement XOR using Multi-Layer Perceptron.**"
      ],
      "metadata": {
        "id": "iB6eMpXeHEdV"
      }
    },
    {
      "cell_type": "code",
      "source": [
        "import numpy as np\n",
        "\n",
        "# Define XOR input and output\n",
        "X = np.array([[0, 0], [0, 1], [1, 0], [1, 1]])\n",
        "y = np.array([0, 1, 1, 0])\n",
        "\n",
        "# Define activation function\n",
        "def sigmoid(x):\n",
        "  return 1 / (1 + np.exp(-x))\n",
        "\n",
        "# Define derivative of sigmoid\n",
        "def sigmoid_derivative(x):\n",
        "  return x * (1 - x)\n",
        "\n",
        "# Initialize weights and biases\n",
        "# For the first hidden layer\n",
        "w1 = np.random.rand(2, 2)\n",
        "b1 = np.random.rand(1, 2)\n",
        "# For the output layer\n",
        "w2 = np.random.rand(2, 1)\n",
        "b2 = np.random.rand(1, 1)\n",
        "\n",
        "# Learning rate\n",
        "learning_rate = 0.1\n",
        "epochs = 10000\n",
        "\n",
        "# Training loop\n",
        "for epoch in range(epochs):\n",
        "  # Forward propagation\n",
        "  hidden_layer_input = np.dot(X, w1) + b1\n",
        "  hidden_layer_output = sigmoid(hidden_layer_input)\n",
        "  output_layer_input = np.dot(hidden_layer_output, w2) + b2\n",
        "  output_layer_output = sigmoid(output_layer_input)\n",
        "\n",
        "  # Backpropagation\n",
        "  error = y.reshape(-1, 1) - output_layer_output\n",
        "  d_output = error * sigmoid_derivative(output_layer_output)\n",
        "  error_hidden_layer = d_output.dot(w2.T)\n",
        "  d_hidden_layer = error_hidden_layer * sigmoid_derivative(hidden_layer_output)\n",
        "\n",
        "  # Update weights and biases\n",
        "  w2 += hidden_layer_output.T.dot(d_output) * learning_rate\n",
        "  b2 += np.sum(d_output, axis=0, keepdims=True) * learning_rate\n",
        "  w1 += X.T.dot(d_hidden_layer) * learning_rate\n",
        "  b1 += np.sum(d_hidden_layer, axis=0, keepdims=True) * learning_rate\n",
        "\n",
        "# Testing the MLP\n",
        "print(\"Testing Multi-Layer Perceptron on XOR Gate:\")\n",
        "for i in range(len(X)):\n",
        "  hidden_layer_input = np.dot(X[i], w1) + b1\n",
        "  hidden_layer_output = sigmoid(hidden_layer_input)\n",
        "  output_layer_input = np.dot(hidden_layer_output, w2) + b2\n",
        "  output_layer_output = sigmoid(output_layer_input)\n",
        "  print(f\"Input: {X[i]}, Output: {output_layer_output[0][0]:.4f}, Expected: {y[i]}\")"
      ],
      "metadata": {
        "colab": {
          "base_uri": "https://localhost:8080/"
        },
        "id": "PiF6Aa0ZDER4",
        "outputId": "8944bbd5-fe64-49b0-a0ea-ff0c93402e53"
      },
      "execution_count": 7,
      "outputs": [
        {
          "output_type": "stream",
          "name": "stdout",
          "text": [
            "Testing Multi-Layer Perceptron on XOR Gate:\n",
            "Input: [0 0], Output: 0.0581, Expected: 0\n",
            "Input: [0 1], Output: 0.9466, Expected: 1\n",
            "Input: [1 0], Output: 0.9466, Expected: 1\n",
            "Input: [1 1], Output: 0.0575, Expected: 0\n"
          ]
        }
      ]
    },
    {
      "cell_type": "markdown",
      "source": [
        "##**Sentiment Analysis Twitter Airline**"
      ],
      "metadata": {
        "id": "vz0Jj8D8E-45"
      }
    },
    {
      "cell_type": "code",
      "source": [
        "import numpy as np\n",
        "import pandas as pd\n",
        "from sklearn.model_selection import train_test_split\n",
        "from sklearn.feature_extraction.text import TfidfVectorizer\n",
        "from sklearn.preprocessing import LabelEncoder\n",
        "from tensorflow.keras.models import Sequential\n",
        "from tensorflow.keras.layers import Dense, Dropout\n",
        "from tensorflow.keras.optimizers import Adam\n",
        "import matplotlib.pyplot as plt\n",
        "\n",
        "# Load and preprocess the data\n",
        "df = pd.read_csv('/content/Tweets - Tweets.csv')\n",
        "\n",
        "# Preprocessing: Keep only relevant columns\n",
        "df = df[['text', 'airline_sentiment']]\n",
        "\n",
        "# Convert sentiment into binary labels (positive = 1, negative = 0)\n",
        "df['airline_sentiment'] = df['airline_sentiment'].map({'positive': 1, 'negative': 0})\n",
        "\n",
        "# Drop any rows with missing data\n",
        "df = df.dropna()\n",
        "\n",
        "# Split the data into training and testing sets\n",
        "X = df['text']\n",
        "y = df['airline_sentiment']\n",
        "\n",
        "# Convert text data into numerical form using TF-IDF\n",
        "tfidf = TfidfVectorizer(max_features=5000)\n",
        "X = tfidf.fit_transform(X).toarray()\n",
        "\n",
        "# Split the dataset into train and test sets\n",
        "X_train, X_test, y_train, y_test = train_test_split(X, y, test_size=0.2, random_state=42)\n",
        "\n",
        "# Build the neural network model\n",
        "def create_model(activation_func='sigmoid'):\n",
        "    model = Sequential()\n",
        "    model.add(Dense(128, input_dim=X_train.shape[1], activation=activation_func))\n",
        "    model.add(Dropout(0.5))\n",
        "    model.add(Dense(64, activation=activation_func))\n",
        "    model.add(Dense(1, activation='sigmoid'))  # Output layer for binary classification\n",
        "    model.compile(loss='binary_crossentropy', optimizer=Adam(learning_rate=0.001), metrics=['accuracy'])\n",
        "    return model\n",
        "\n",
        "# Train and evaluate the model\n",
        "activation_funcs = ['sigmoid', 'relu', 'tanh']\n",
        "history_dict = {}\n",
        "\n",
        "for activation_func in activation_funcs:\n",
        "    print(f\"Training with {activation_func} activation function...\")\n",
        "    model = create_model(activation_func)\n",
        "    history = model.fit(X_train, y_train, epochs=10, batch_size=32, validation_split=0.2, verbose=1)\n",
        "    history_dict[activation_func] = history\n",
        "\n",
        "# Plot the loss over epochs\n",
        "plt.figure(figsize=(12, 6))\n",
        "for activation_func in activation_funcs:\n",
        "    plt.plot(history_dict[activation_func].history['loss'], label=f'{activation_func} Loss')\n",
        "plt.title('Training Loss Over Epochs for Different Activation Functions')\n",
        "plt.xlabel('Epochs')\n",
        "plt.ylabel('Loss')\n",
        "plt.legend()\n",
        "plt.show()\n",
        "\n",
        "# Evaluate model on the test set\n",
        "for activation_func in activation_funcs:\n",
        "    print(f\"Evaluating model with {activation_func} activation function...\")\n",
        "    model = create_model(activation_func)\n",
        "    model.fit(X_train, y_train, epochs=10, batch_size=32, verbose=0)  # Train again with the same parameters\n",
        "    loss, accuracy = model.evaluate(X_test, y_test, verbose=1)\n",
        "    print(f'{activation_func} Test Accuracy: {accuracy:.4f}')\n"
      ],
      "metadata": {
        "colab": {
          "base_uri": "https://localhost:8080/",
          "height": 1000
        },
        "id": "BqCaE6dNFAvT",
        "outputId": "5cff1149-e127-406a-d473-8666572e6dfa"
      },
      "execution_count": 9,
      "outputs": [
        {
          "output_type": "stream",
          "name": "stdout",
          "text": [
            "Training with sigmoid activation function...\n",
            "Epoch 1/10\n",
            "231/231 [==============================] - 2s 6ms/step - loss: 0.5309 - accuracy: 0.7686 - val_loss: 0.5246 - val_accuracy: 0.7818\n",
            "Epoch 2/10\n",
            "231/231 [==============================] - 1s 5ms/step - loss: 0.4776 - accuracy: 0.7951 - val_loss: 0.4712 - val_accuracy: 0.7818\n",
            "Epoch 3/10\n",
            "231/231 [==============================] - 1s 5ms/step - loss: 0.4124 - accuracy: 0.8184 - val_loss: 0.3691 - val_accuracy: 0.8170\n",
            "Epoch 4/10\n",
            "231/231 [==============================] - 1s 5ms/step - loss: 0.3196 - accuracy: 0.8697 - val_loss: 0.3012 - val_accuracy: 0.8581\n",
            "Epoch 5/10\n",
            "231/231 [==============================] - 1s 5ms/step - loss: 0.2639 - accuracy: 0.8932 - val_loss: 0.2855 - val_accuracy: 0.8749\n",
            "Epoch 6/10\n",
            "231/231 [==============================] - 1s 5ms/step - loss: 0.2345 - accuracy: 0.9025 - val_loss: 0.2544 - val_accuracy: 0.8928\n",
            "Epoch 7/10\n",
            "231/231 [==============================] - 1s 5ms/step - loss: 0.2105 - accuracy: 0.9151 - val_loss: 0.2327 - val_accuracy: 0.9025\n",
            "Epoch 8/10\n",
            "231/231 [==============================] - 1s 5ms/step - loss: 0.1812 - accuracy: 0.9299 - val_loss: 0.2360 - val_accuracy: 0.8998\n",
            "Epoch 9/10\n",
            "231/231 [==============================] - 1s 5ms/step - loss: 0.1787 - accuracy: 0.9311 - val_loss: 0.2352 - val_accuracy: 0.9020\n",
            "Epoch 10/10\n",
            "231/231 [==============================] - 1s 5ms/step - loss: 0.1718 - accuracy: 0.9334 - val_loss: 0.2381 - val_accuracy: 0.9015\n",
            "Training with relu activation function...\n",
            "Epoch 1/10\n",
            "231/231 [==============================] - 2s 6ms/step - loss: 0.3532 - accuracy: 0.8467 - val_loss: 0.2315 - val_accuracy: 0.9053\n",
            "Epoch 2/10\n",
            "231/231 [==============================] - 1s 5ms/step - loss: 0.1486 - accuracy: 0.9414 - val_loss: 0.2268 - val_accuracy: 0.9134\n",
            "Epoch 3/10\n",
            "231/231 [==============================] - 1s 5ms/step - loss: 0.0903 - accuracy: 0.9670 - val_loss: 0.2517 - val_accuracy: 0.9123\n",
            "Epoch 4/10\n",
            "231/231 [==============================] - 1s 5ms/step - loss: 0.0555 - accuracy: 0.9805 - val_loss: 0.3185 - val_accuracy: 0.9101\n",
            "Epoch 5/10\n",
            "231/231 [==============================] - 1s 5ms/step - loss: 0.0360 - accuracy: 0.9888 - val_loss: 0.3227 - val_accuracy: 0.9036\n",
            "Epoch 6/10\n",
            "231/231 [==============================] - 1s 5ms/step - loss: 0.0214 - accuracy: 0.9943 - val_loss: 0.3731 - val_accuracy: 0.9020\n",
            "Epoch 7/10\n",
            "231/231 [==============================] - 1s 5ms/step - loss: 0.0135 - accuracy: 0.9963 - val_loss: 0.4318 - val_accuracy: 0.9015\n",
            "Epoch 8/10\n",
            "231/231 [==============================] - 1s 5ms/step - loss: 0.0082 - accuracy: 0.9974 - val_loss: 0.4750 - val_accuracy: 0.8998\n",
            "Epoch 9/10\n",
            "231/231 [==============================] - 1s 5ms/step - loss: 0.0073 - accuracy: 0.9980 - val_loss: 0.4960 - val_accuracy: 0.9015\n",
            "Epoch 10/10\n",
            "231/231 [==============================] - 1s 5ms/step - loss: 0.0062 - accuracy: 0.9984 - val_loss: 0.5055 - val_accuracy: 0.9015\n",
            "Training with tanh activation function...\n",
            "Epoch 1/10\n",
            "231/231 [==============================] - 2s 6ms/step - loss: 0.2937 - accuracy: 0.8756 - val_loss: 0.2258 - val_accuracy: 0.9069\n",
            "Epoch 2/10\n",
            "231/231 [==============================] - 1s 5ms/step - loss: 0.1249 - accuracy: 0.9531 - val_loss: 0.2360 - val_accuracy: 0.9096\n",
            "Epoch 3/10\n",
            "231/231 [==============================] - 1s 5ms/step - loss: 0.0793 - accuracy: 0.9710 - val_loss: 0.2903 - val_accuracy: 0.9063\n",
            "Epoch 4/10\n",
            "231/231 [==============================] - 1s 5ms/step - loss: 0.0505 - accuracy: 0.9833 - val_loss: 0.3269 - val_accuracy: 0.9047\n",
            "Epoch 5/10\n",
            "231/231 [==============================] - 1s 5ms/step - loss: 0.0351 - accuracy: 0.9873 - val_loss: 0.4047 - val_accuracy: 0.8993\n",
            "Epoch 6/10\n",
            "231/231 [==============================] - 1s 5ms/step - loss: 0.0262 - accuracy: 0.9912 - val_loss: 0.4724 - val_accuracy: 0.8944\n",
            "Epoch 7/10\n",
            "231/231 [==============================] - 1s 5ms/step - loss: 0.0187 - accuracy: 0.9943 - val_loss: 0.5363 - val_accuracy: 0.8966\n",
            "Epoch 8/10\n",
            "231/231 [==============================] - 1s 5ms/step - loss: 0.0136 - accuracy: 0.9961 - val_loss: 0.5914 - val_accuracy: 0.8912\n",
            "Epoch 9/10\n",
            "231/231 [==============================] - 1s 5ms/step - loss: 0.0115 - accuracy: 0.9968 - val_loss: 0.6226 - val_accuracy: 0.8960\n",
            "Epoch 10/10\n",
            "231/231 [==============================] - 1s 5ms/step - loss: 0.0112 - accuracy: 0.9973 - val_loss: 0.6562 - val_accuracy: 0.8879\n"
          ]
        },
        {
          "output_type": "display_data",
          "data": {
            "text/plain": [
              "<Figure size 1200x600 with 1 Axes>"
            ],
            "image/png": "[encoded data removed]"
          },
          "metadata": {}
        },
        {
          "output_type": "stream",
          "name": "stdout",
          "text": [
            "Evaluating model with sigmoid activation function...\n",
            "73/73 [==============================] - 0s 2ms/step - loss: 0.1846 - accuracy: 0.9255\n",
            "sigmoid Test Accuracy: 0.9255\n",
            "Evaluating model with relu activation function...\n",
            "73/73 [==============================] - 0s 2ms/step - loss: 0.4170 - accuracy: 0.9125\n",
            "relu Test Accuracy: 0.9125\n",
            "Evaluating model with tanh activation function...\n",
            "73/73 [==============================] - 0s 2ms/step - loss: 0.4977 - accuracy: 0.9112\n",
            "tanh Test Accuracy: 0.9112\n"
          ]
        }
      ]
    }
  ]
}